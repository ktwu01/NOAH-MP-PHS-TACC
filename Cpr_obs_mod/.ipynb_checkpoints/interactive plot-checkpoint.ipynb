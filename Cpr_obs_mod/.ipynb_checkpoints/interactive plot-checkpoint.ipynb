{
 "cells": [
  {
   "cell_type": "code",
   "execution_count": null,
   "id": "708219f7-034a-4f4e-84b5-05d7333de0ce",
   "metadata": {},
   "outputs": [],
   "source": []
  },
  {
   "cell_type": "markdown",
   "id": "b1b0cf21-3842-4e4e-9b46-29ed7fcb4c6b",
   "metadata": {},
   "source": [
    "# interactive plot"
   ]
  },
  {
   "cell_type": "code",
   "execution_count": 30,
   "id": "04ad184f-d19a-471b-8ca0-b6b27e3f1933",
   "metadata": {},
   "outputs": [
    {
     "data": {
      "application/vnd.jupyter.widget-view+json": {
       "model_id": "3f78e9ea4f7f4d4cb83db25572b80d79",
       "version_major": 2,
       "version_minor": 0
      },
      "text/plain": [
       "interactive(children=(FloatSlider(value=5.0, description='scale', max=10.0, min=1.0, step=0.5), Output()), _do…"
      ]
     },
     "metadata": {},
     "output_type": "display_data"
    },
    {
     "data": {
      "text/plain": [
       "<function __main__.plot_graph(scale)>"
      ]
     },
     "execution_count": 30,
     "metadata": {},
     "output_type": "execute_result"
    }
   ],
   "source": [
    "import matplotlib.pyplot as plt\n",
    "import numpy as np\n",
    "import ipywidgets as widgets\n",
    "\n",
    "def plot_graph(scale):\n",
    "    x = np.linspace(0, 10, 100)\n",
    "    y = np.sin(scale * x)\n",
    "    plt.figure(figsize=(8, 4))\n",
    "    plt.plot(x, y)\n",
    "    plt.title(f\"scale = {scale}\")\n",
    "    plt.show(block=False)  # 非阻塞式显示\n",
    "\n",
    "widgets.interact(plot_graph, scale=(1, 10, 0.5))"
   ]
  }
 ],
 "metadata": {
  "kernelspec": {
   "display_name": "Python 3 (ipykernel)",
   "language": "python",
   "name": "python3"
  },
  "language_info": {
   "codemirror_mode": {
    "name": "ipython",
    "version": 3
   },
   "file_extension": ".py",
   "mimetype": "text/x-python",
   "name": "python",
   "nbconvert_exporter": "python",
   "pygments_lexer": "ipython3",
   "version": "3.10.5"
  }
 },
 "nbformat": 4,
 "nbformat_minor": 5
}
