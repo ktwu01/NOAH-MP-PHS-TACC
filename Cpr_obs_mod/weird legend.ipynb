{
 "cells": [
  {
   "cell_type": "code",
   "execution_count": 3,
   "metadata": {},
   "outputs": [
    {
     "data": {
      "image/png": "[encoded data removed]",
      "text/plain": [
       "<Figure size 720x360 with 2 Axes>"
      ]
     },
     "metadata": {
      "needs_background": "light"
     },
     "output_type": "display_data"
    }
   ],
   "source": [
    "import matplotlib.pyplot as plt\n",
    "import matplotlib.path as mpath\n",
    "import matplotlib.patches as mpatches\n",
    "from matplotlib.legend_handler import HandlerBase\n",
    "import matplotlib.transforms as transforms\n",
    "\n",
    "# 自定义 Handler，用于在 legend 中正确显示波折图形\n",
    "class HandlerWavy(HandlerBase):\n",
    "    def create_artists(self, legend, orig_handle,\n",
    "                       xdescent, ydescent, width, height, fontsize, trans):\n",
    "        patch = mpatches.PathPatch(orig_handle.get_path(),\n",
    "                                    facecolor=orig_handle.get_facecolor(),\n",
    "                                    edgecolor=orig_handle.get_edgecolor(),\n",
    "                                    lw=orig_handle.get_linewidth(),\n",
    "                                    alpha=orig_handle.get_alpha())\n",
    "        # 获取原始路径的边界，并计算中心点\n",
    "        bbox = orig_handle.get_path().get_extents()\n",
    "        path_center = ((bbox.x0 + bbox.x1) / 2, (bbox.y0 + bbox.y1) / 2)\n",
    "        # 计算 legend 区域的中心位置\n",
    "        center_x = xdescent + width / 2.0\n",
    "        center_y = ydescent + height / 2.0\n",
    "        # 平移使得路径居中显示\n",
    "        translation = transforms.Affine2D().translate(center_x - path_center[0],\n",
    "                                                      center_y - path_center[1])\n",
    "        patch.set_transform(translation + trans)\n",
    "        return [patch]\n",
    "\n",
    "# 定义一个波折图形（锯齿状的波形）\n",
    "Path = mpath.Path\n",
    "vertices = [\n",
    "    (0.0, 0.5),   # 左侧中点\n",
    "    (0.2, 0.7),   # 上升\n",
    "    (0.4, 0.3),   # 下降\n",
    "    (0.6, 0.7),   # 上升\n",
    "    (0.8, 0.3),   # 下降\n",
    "    (1.0, 0.5),   # 右侧中点\n",
    "    (1.0, 0.8),   # 向右上延伸\n",
    "    (0.8, 1.0),   # 左转\n",
    "    (0.6, 0.6),   # 下降\n",
    "    (0.4, 1.0),   # 上升\n",
    "    (0.2, 0.8),   # 左转\n",
    "    (0.0, 0.8),   # 左侧上方\n",
    "    (0.0, 0.5)    # 回到起点闭合\n",
    "]\n",
    "# 用 LINETO 构造所有边，最后一个点用 CLOSEPOLY\n",
    "codes = [Path.MOVETO] + [Path.LINETO]*(len(vertices)-2) + [Path.CLOSEPOLY]\n",
    "wavy_path = Path(vertices, codes)\n",
    "\n",
    "# 设置波折图形的颜色和透明度\n",
    "wavy_color = '#1f77b4'\n",
    "wavy_patch = mpatches.PathPatch(wavy_path,\n",
    "                                facecolor=wavy_color,\n",
    "                                edgecolor=wavy_color,\n",
    "                                alpha=0.5)\n",
    "\n",
    "# 创建图形和两个子图\n",
    "fig, axs = plt.subplots(1, 2, figsize=(10, 5))\n",
    "\n",
    "# 子图1：直接绘制波折图形\n",
    "axs[0].add_patch(wavy_patch)\n",
    "axs[0].set_title(\"\")\n",
    "axs[0].set_xlim(-0.5, 1.5)\n",
    "axs[0].set_ylim(0, 1.5)\n",
    "axs[0].set_aspect('equal')\n",
    "axs[0].axis('off')  # 去除坐标轴\n",
    "\n",
    "# 子图2：利用 legend 显示波折图形\n",
    "# 绘制一条虚拟的线，主要用于 legend 显示\n",
    "axs[1].plot([0, 1], [0, 1], label=\"\")\n",
    "# 把波折图形作为 legend handle，并使用自定义的 HandlerWavy\n",
    "axs[1].legend([wavy_patch], ['wavy'],\n",
    "              handler_map={mpatches.PathPatch: HandlerWavy()},\n",
    "              loc='upper left')\n",
    "axs[1].set_title(\"Legend wavy\")\n",
    "\n",
    "plt.tight_layout()\n",
    "plt.show()"
   ]
  },
  {
   "cell_type": "markdown",
   "metadata": {},
   "source": [
    "# legend"
   ]
  },
  {
   "cell_type": "code",
   "execution_count": 4,
   "metadata": {},
   "outputs": [
    {
     "data": {
      "image/png": "[encoded data removed]",
      "text/plain": [
       "<Figure size 288x720 with 4 Axes>"
      ]
     },
     "metadata": {
      "needs_background": "light"
     },
     "output_type": "display_data"
    }
   ],
   "source": [
    "import matplotlib.pyplot as plt\n",
    "import matplotlib.path as mpath\n",
    "import matplotlib.patches as mpatches\n",
    "\n",
    "# 定义一个波折图形（锯齿状波形）的顶点和指令\n",
    "Path = mpath.Path\n",
    "vertices = [\n",
    "    (0.0, 0.5),\n",
    "    (0.2, 0.7),\n",
    "    (0.4, 0.3),\n",
    "    (0.6, 0.7),\n",
    "    (0.8, 0.3),\n",
    "    (1.0, 0.5),\n",
    "    (1.0, 0.8),\n",
    "    (0.8, 1.0),\n",
    "    (0.6, 0.6),\n",
    "    (0.4, 1.0),\n",
    "    (0.2, 0.8),\n",
    "    (0.0, 0.8),\n",
    "    (0.0, 0.5)  # 闭合图形\n",
    "]\n",
    "codes = [Path.MOVETO] + [Path.LINETO]*(len(vertices)-2) + [Path.CLOSEPOLY]\n",
    "wavy_path = Path(vertices, codes)\n",
    "\n",
    "# 定义四种颜色\n",
    "obs_season_color = '#1f77b4'\n",
    "mod_season_color = '#ff7f0e'\n",
    "obs_diurnal_color = '#7f7f7f'\n",
    "mod_diurnal_color = '#e377c2'\n",
    "\n",
    "colors = [obs_season_color, mod_season_color, obs_diurnal_color, mod_diurnal_color]\n",
    "\n",
    "# 为每种颜色生成一个 PathPatch\n",
    "patches = []\n",
    "for col in colors:\n",
    "    patch = mpatches.PathPatch(wavy_path, facecolor=col, edgecolor=col, alpha=0.5)\n",
    "    patches.append(patch)\n",
    "\n",
    "# 创建图形，将四个图形排列成一列\n",
    "fig, axs = plt.subplots(4, 1, figsize=(4, 10))\n",
    "for ax, patch in zip(axs, patches):\n",
    "    ax.add_patch(patch)\n",
    "    ax.set_xlim(-0.2, 1.2)\n",
    "    ax.set_ylim(0, 1.2)\n",
    "    ax.set_aspect('equal')\n",
    "    ax.axis('off')  # 不显示坐标轴\n",
    "\n",
    "plt.tight_layout()\n",
    "plt.show()\n"
   ]
  },
  {
   "cell_type": "code",
   "execution_count": 5,
   "metadata": {},
   "outputs": [
    {
     "name": "stdout",
     "output_type": "stream",
     "text": [
      "\u001b[H\u001b[2J"
     ]
    }
   ],
   "source": [
    "clear all"
   ]
  },
  {
   "cell_type": "code",
   "execution_count": null,
   "metadata": {},
   "outputs": [],
   "source": []
  },
  {
   "cell_type": "code",
   "execution_count": null,
   "metadata": {},
   "outputs": [],
   "source": []
  },
  {
   "cell_type": "code",
   "execution_count": null,
   "metadata": {},
   "outputs": [],
   "source": []
  }
 ],
 "metadata": {
  "kernelspec": {
   "display_name": "Python 3",
   "language": "python",
   "name": "python3"
  },
  "language_info": {
   "codemirror_mode": {
    "name": "ipython",
    "version": 3
   },
   "file_extension": ".py",
   "mimetype": "text/x-python",
   "name": "python",
   "nbconvert_exporter": "python",
   "pygments_lexer": "ipython3",
   "version": "3.8.6"
  }
 },
 "nbformat": 4,
 "nbformat_minor": 2
}
